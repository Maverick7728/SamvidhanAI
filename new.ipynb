{
 "cells": [
  {
   "cell_type": "code",
   "execution_count": 1,
   "id": "7555917f",
   "metadata": {},
   "outputs": [
    {
     "name": "stderr",
     "output_type": "stream",
     "text": [
      "c:\\Users\\manan\\anaconda3\\lib\\site-packages\\pandas\\core\\computation\\expressions.py:21: UserWarning: Pandas requires version '2.8.4' or newer of 'numexpr' (version '2.8.3' currently installed).\n",
      "  from pandas.core.computation.check import NUMEXPR_INSTALLED\n",
      "c:\\Users\\manan\\anaconda3\\lib\\site-packages\\pandas\\core\\arrays\\masked.py:60: UserWarning: Pandas requires version '1.3.6' or newer of 'bottleneck' (version '1.3.5' currently installed).\n",
      "  from pandas.core import (\n"
     ]
    },
    {
     "name": "stdout",
     "output_type": "stream",
     "text": [
      "{'context': 'Colameta used customer information that he took from Protégé. Additionally, Colameta admits to having taken at least two Protégé proposals with him to Monument. This type of information may constitute trade secrets. See G.L.c. 266, §30 (defining “trade secret” as used in G.L.c. 93, §42, as including “anything tangible or intangible or electronically kept or stored, which constitutes, represents, evidences or records a secret scientific, technical, merchandising, production or management information, design, process, procedure, formula, invention or improvement”); Warner-Lambert Co., 427 Mass. at 49 (“ [Confidential and proprietary business information may be entitled to protection, even if such information cannot claim trade secret protection”); see, e.g., Augat, Inc., 409 Mass. at 173 (<HOLDING>). “Matters of public knowledge or of general', 'endings': ['recognizing that even if a plaintiff claims certain information constitutes trade secrets its claim may not depend on that determination', 'holding that included among trade secrets employee may not appropriate from employer is certain information such as lists of customers', 'holding that supplier lists can be trade secrets under indianas uniform trade secrets act which uses the same definition of a trade secret as montana', 'recognizing that customer lists may be protectable trade secrets', 'recognizing a legitimate need to protect an employee from disclosing an employers trade secrets or other confidential information to a competitor'], 'label': 1}\n"
     ]
    }
   ],
   "source": [
    "from datasets import load_dataset\n",
    "\n",
    "case_hold = load_dataset(\"lex_glue\", \"case_hold\")\n",
    "print(case_hold[\"train\"][1])  # View first sample"
   ]
  },
  {
   "cell_type": "code",
   "execution_count": 2,
   "id": "4a6a92fc",
   "metadata": {},
   "outputs": [
    {
     "name": "stdout",
     "output_type": "stream",
     "text": [
      "Dataset structure: DatasetDict({\n",
      "    train: Dataset({\n",
      "        features: ['context', 'endings', 'label'],\n",
      "        num_rows: 45000\n",
      "    })\n",
      "    test: Dataset({\n",
      "        features: ['context', 'endings', 'label'],\n",
      "        num_rows: 3600\n",
      "    })\n",
      "    validation: Dataset({\n",
      "        features: ['context', 'endings', 'label'],\n",
      "        num_rows: 3900\n",
      "    })\n",
      "})\n",
      "\n",
      "Available splits: dict_keys(['train', 'test', 'validation'])\n"
     ]
    }
   ],
   "source": [
    "# Get dataset statistics and structure\n",
    "print(\"Dataset structure:\", case_hold)\n",
    "print(\"\\nAvailable splits:\", case_hold.keys())"
   ]
  },
  {
   "cell_type": "code",
   "execution_count": 3,
   "id": "76890e50",
   "metadata": {},
   "outputs": [],
   "source": [
    "import nltk\n",
    "from nltk.tokenize import word_tokenize, sent_tokenize\n",
    "from nltk.corpus import stopwords\n",
    "from collections import Counter\n",
    "import matplotlib.pyplot as plt\n",
    "import seaborn as sns\n",
    "import pandas as pd"
   ]
  },
  {
   "cell_type": "code",
   "execution_count": 4,
   "id": "96f66aa2",
   "metadata": {},
   "outputs": [
    {
     "name": "stderr",
     "output_type": "stream",
     "text": [
      "[nltk_data] Downloading package punkt to\n",
      "[nltk_data]     C:\\Users\\manan\\AppData\\Roaming\\nltk_data...\n",
      "[nltk_data]   Package punkt is already up-to-date!\n",
      "[nltk_data] Downloading package stopwords to\n",
      "[nltk_data]     C:\\Users\\manan\\AppData\\Roaming\\nltk_data...\n",
      "[nltk_data]   Package stopwords is already up-to-date!\n",
      "[nltk_data] Downloading package wordnet to\n",
      "[nltk_data]     C:\\Users\\manan\\AppData\\Roaming\\nltk_data...\n",
      "[nltk_data]   Package wordnet is already up-to-date!\n"
     ]
    }
   ],
   "source": [
    "# Download necessary NLTK resources\n",
    "nltk.download('punkt')\n",
    "nltk.download('stopwords')\n",
    "nltk.download('wordnet')\n",
    "from nltk.stem import WordNetLemmatizer"
   ]
  },
  {
   "cell_type": "code",
   "execution_count": 5,
   "id": "ab815911",
   "metadata": {},
   "outputs": [
    {
     "name": "stdout",
     "output_type": "stream",
     "text": [
      "Train samples: 45000\n",
      "Validation samples: 3900\n",
      "Test samples: 3600\n"
     ]
    }
   ],
   "source": [
    "# Get sample sizes\n",
    "print(f\"Train samples: {len(case_hold['train'])}\")\n",
    "print(f\"Validation samples: {len(case_hold['validation'])}\")\n",
    "print(f\"Test samples: {len(case_hold['test'])}\")"
   ]
  },
  {
   "cell_type": "code",
   "execution_count": 13,
   "id": "2b7ea291",
   "metadata": {},
   "outputs": [
    {
     "name": "stdout",
     "output_type": "stream",
     "text": [
      "Number of training examples: 45000\n",
      "\n",
      "--- Sample 0 ---\n",
      "Drapeau’s cohorts, the cohort would be a “victim” of making the bomb. Further, firebombs are inherently dangerous. There is no peaceful purpose for making a bomb. Felony offenses that involve explosives qualify as “violent crimes” for purposes of enhancing the sentences of career offenders. See 18 U.S.C. § 924(e)(2)(B)(ii) (defining a “violent felony” as: “any crime punishable by imprisonment for a term exceeding one year ... that ... involves use of explosives”). Courts have found possession of...\n",
      "\n",
      "\n",
      "--- Sample 1 ---\n",
      "Colameta used customer information that he took from Protégé. Additionally, Colameta admits to having taken at least two Protégé proposals with him to Monument. This type of information may constitute trade secrets. See G.L.c. 266, §30 (defining “trade secret” as used in G.L.c. 93, §42, as including “anything tangible or intangible or electronically kept or stored, which constitutes, represents, evidences or records a secret scientific, technical, merchandising, production or management informat...\n",
      "\n",
      "\n",
      "--- Sample 2 ---\n",
      "property tax sale. In reviewing section 6323(b)(6), this Court noted that it provides that a county’s tax lien has priority over a federal lien, and thus, Taylor purchased the property still subject to the county’s lien. Taylor v. Mill, 310 S.C. 526, 528, 426 S.E.2d 311, 312 (1992). Thus, this Court has already noted that section 6323 operates to establish priority, not extinguish ection in this manner will stifle tax sales, potential buyers must research tax sale property purchases and would be...\n",
      "\n",
      "\n",
      "--- Sample 3 ---\n",
      "They also rely on Oswego Laborers’ Local 214 Pension Fund v. Marine Midland Bank, 85 N.Y.2d 20, 623 N.Y.S.2d 529, 647 N.E.2d 741 (1995), which held that a plaintiff “must demonstrate that the acts or practices have a broader impact on consumers at large.” Defs.’ Mem. at 14 (quoting Oswego Laborers’, 623 N.Y.S.2d 529, 647 N.E.2d at 744). As explained above, however, Plaintiffs have adequately alleged that Defendants’ unauthorized use of the DEL MONICO’S name in connection with non-Ocinomled resta...\n",
      "\n",
      "\n",
      "--- Sample 4 ---\n",
      "did not affect the defendant’s guideline range, a sentence reduction under § 3582(c)(2) was properly denied). Mr. Norwood concedes that the guideline range would have remained the same based on the findings that the district court had made at sentencing. Appellant’s Opening Br. at 9. But Mr. Norwood challenges these findings, arguing that the district court violated the U.S. Constitution by failing to allow the jury to decide matters involving relevant conduct. In our view, this argument is not ...\n",
      "\n"
     ]
    }
   ],
   "source": [
    "# Get sample text from the dataset\n",
    "# Fetch the entire 'context' column as a list\n",
    "sample_text = case_hold[\"train\"][\"context\"]\n",
    "\n",
    "print(f\"Number of training examples: {len(sample_text)}\")\n",
    "\n",
    "# Print the first 5 contexts (truncated)\n",
    "for i, ctx in enumerate(sample_text[:5]):\n",
    "    print(f\"\\n--- Sample {i} ---\")\n",
    "    print(ctx[:500] + \"...\\n\")\n"
   ]
  },
  {
   "cell_type": "markdown",
   "id": "f7bcb9ec",
   "metadata": {},
   "source": [
    "## Text Preprocessing Pipeline\n",
    "\n",
    "We'll apply the following preprocessing steps to the legal text data:\n",
    "\n",
    "1. Tokenization (split text into individual words)\n",
    "2. Lowercasing (convert all text to lowercase)\n",
    "3. Stopword removal (remove common words like 'the', 'and', etc.)\n",
    "4. Punctuation removal (remove punctuation marks)\n",
    "5. Frequency analysis of the resulting tokens"
   ]
  },
  {
   "cell_type": "code",
   "execution_count": 14,
   "id": "1eddb9ce",
   "metadata": {},
   "outputs": [],
   "source": [
    "# Define preprocessing functions\n",
    "def tokenize_text(text):\n",
    "    \"\"\"Split text into individual words\"\"\"\n",
    "    return word_tokenize(text)\n",
    "\n",
    "def lowercase_tokens(tokens):\n",
    "    \"\"\"Convert all tokens to lowercase\"\"\"\n",
    "    return [token.lower() for token in tokens]\n",
    "\n",
    "def remove_stopwords(tokens):\n",
    "    \"\"\"Remove common stopwords\"\"\"\n",
    "    stop_words = set(stopwords.words('english'))\n",
    "    return [token for token in tokens if token.lower() not in stop_words]\n",
    "\n",
    "def remove_punctuation(tokens):\n",
    "    \"\"\"Remove punctuation and non-alphanumeric tokens\"\"\"\n",
    "    return [token for token in tokens if token.isalnum()]\n",
    "\n",
    "def preprocess_text(text):\n",
    "    \"\"\"Apply all preprocessing steps in sequence\"\"\"\n",
    "    tokens = tokenize_text(text)\n",
    "    tokens_lower = lowercase_tokens(tokens)\n",
    "    tokens_no_stop = remove_stopwords(tokens_lower)\n",
    "    tokens_no_punct = remove_punctuation(tokens_no_stop)\n",
    "    return {\n",
    "        'original': text,\n",
    "        'tokenized': tokens,\n",
    "        'lowercase': tokens_lower,\n",
    "        'no_stopwords': tokens_no_stop,\n",
    "        'no_punctuation': tokens_no_punct\n",
    "    }"
   ]
  },
  {
   "cell_type": "code",
   "execution_count": 33,
   "id": "8bd3b57b",
   "metadata": {},
   "outputs": [
    {
     "ename": "KeyboardInterrupt",
     "evalue": "",
     "output_type": "error",
     "traceback": [
      "\u001b[1;31m---------------------------------------------------------------------------\u001b[0m",
      "\u001b[1;31mKeyboardInterrupt\u001b[0m                         Traceback (most recent call last)",
      "\u001b[1;32m~\\AppData\\Local\\Temp\\ipykernel_26040\\1933750134.py\u001b[0m in \u001b[0;36m<module>\u001b[1;34m\u001b[0m\n\u001b[0;32m      3\u001b[0m \u001b[1;32mfor\u001b[0m \u001b[0mi\u001b[0m\u001b[1;33m,\u001b[0m \u001b[0mtext\u001b[0m \u001b[1;32min\u001b[0m \u001b[0menumerate\u001b[0m\u001b[1;33m(\u001b[0m\u001b[0msample_text\u001b[0m\u001b[1;33m)\u001b[0m\u001b[1;33m:\u001b[0m\u001b[1;33m\u001b[0m\u001b[1;33m\u001b[0m\u001b[0m\n\u001b[0;32m      4\u001b[0m     \u001b[1;32mif\u001b[0m \u001b[0mi\u001b[0m \u001b[1;33m<\u001b[0m \u001b[1;36m45000\u001b[0m\u001b[1;33m:\u001b[0m \u001b[1;31m# Limit to first 45000 samples for demonstration\u001b[0m\u001b[1;33m\u001b[0m\u001b[1;33m\u001b[0m\u001b[0m\n\u001b[1;32m----> 5\u001b[1;33m         \u001b[0mpreprocessed_samples\u001b[0m\u001b[1;33m.\u001b[0m\u001b[0mappend\u001b[0m\u001b[1;33m(\u001b[0m\u001b[0mpreprocess_text\u001b[0m\u001b[1;33m(\u001b[0m\u001b[0mtext\u001b[0m\u001b[1;33m)\u001b[0m\u001b[1;33m)\u001b[0m\u001b[1;33m\u001b[0m\u001b[1;33m\u001b[0m\u001b[0m\n\u001b[0m\u001b[0;32m      6\u001b[0m     \u001b[1;32melse\u001b[0m\u001b[1;33m:\u001b[0m\u001b[1;33m\u001b[0m\u001b[1;33m\u001b[0m\u001b[0m\n\u001b[0;32m      7\u001b[0m         \u001b[1;32mbreak\u001b[0m\u001b[1;33m\u001b[0m\u001b[1;33m\u001b[0m\u001b[0m\n",
      "\u001b[1;32m~\\AppData\\Local\\Temp\\ipykernel_26040\\107899603.py\u001b[0m in \u001b[0;36mpreprocess_text\u001b[1;34m(text)\u001b[0m\n\u001b[0;32m     21\u001b[0m     \u001b[0mtokens\u001b[0m \u001b[1;33m=\u001b[0m \u001b[0mtokenize_text\u001b[0m\u001b[1;33m(\u001b[0m\u001b[0mtext\u001b[0m\u001b[1;33m)\u001b[0m\u001b[1;33m\u001b[0m\u001b[1;33m\u001b[0m\u001b[0m\n\u001b[0;32m     22\u001b[0m     \u001b[0mtokens_lower\u001b[0m \u001b[1;33m=\u001b[0m \u001b[0mlowercase_tokens\u001b[0m\u001b[1;33m(\u001b[0m\u001b[0mtokens\u001b[0m\u001b[1;33m)\u001b[0m\u001b[1;33m\u001b[0m\u001b[1;33m\u001b[0m\u001b[0m\n\u001b[1;32m---> 23\u001b[1;33m     \u001b[0mtokens_no_stop\u001b[0m \u001b[1;33m=\u001b[0m \u001b[0mremove_stopwords\u001b[0m\u001b[1;33m(\u001b[0m\u001b[0mtokens_lower\u001b[0m\u001b[1;33m)\u001b[0m\u001b[1;33m\u001b[0m\u001b[1;33m\u001b[0m\u001b[0m\n\u001b[0m\u001b[0;32m     24\u001b[0m     \u001b[0mtokens_no_punct\u001b[0m \u001b[1;33m=\u001b[0m \u001b[0mremove_punctuation\u001b[0m\u001b[1;33m(\u001b[0m\u001b[0mtokens_no_stop\u001b[0m\u001b[1;33m)\u001b[0m\u001b[1;33m\u001b[0m\u001b[1;33m\u001b[0m\u001b[0m\n\u001b[0;32m     25\u001b[0m     return {\n",
      "\u001b[1;32m~\\AppData\\Local\\Temp\\ipykernel_26040\\107899603.py\u001b[0m in \u001b[0;36mremove_stopwords\u001b[1;34m(tokens)\u001b[0m\n\u001b[0;32m     10\u001b[0m \u001b[1;32mdef\u001b[0m \u001b[0mremove_stopwords\u001b[0m\u001b[1;33m(\u001b[0m\u001b[0mtokens\u001b[0m\u001b[1;33m)\u001b[0m\u001b[1;33m:\u001b[0m\u001b[1;33m\u001b[0m\u001b[1;33m\u001b[0m\u001b[0m\n\u001b[0;32m     11\u001b[0m     \u001b[1;34m\"\"\"Remove common stopwords\"\"\"\u001b[0m\u001b[1;33m\u001b[0m\u001b[1;33m\u001b[0m\u001b[0m\n\u001b[1;32m---> 12\u001b[1;33m     \u001b[0mstop_words\u001b[0m \u001b[1;33m=\u001b[0m \u001b[0mset\u001b[0m\u001b[1;33m(\u001b[0m\u001b[0mstopwords\u001b[0m\u001b[1;33m.\u001b[0m\u001b[0mwords\u001b[0m\u001b[1;33m(\u001b[0m\u001b[1;34m'english'\u001b[0m\u001b[1;33m)\u001b[0m\u001b[1;33m)\u001b[0m\u001b[1;33m\u001b[0m\u001b[1;33m\u001b[0m\u001b[0m\n\u001b[0m\u001b[0;32m     13\u001b[0m     \u001b[1;32mreturn\u001b[0m \u001b[1;33m[\u001b[0m\u001b[0mtoken\u001b[0m \u001b[1;32mfor\u001b[0m \u001b[0mtoken\u001b[0m \u001b[1;32min\u001b[0m \u001b[0mtokens\u001b[0m \u001b[1;32mif\u001b[0m \u001b[0mtoken\u001b[0m\u001b[1;33m.\u001b[0m\u001b[0mlower\u001b[0m\u001b[1;33m(\u001b[0m\u001b[1;33m)\u001b[0m \u001b[1;32mnot\u001b[0m \u001b[1;32min\u001b[0m \u001b[0mstop_words\u001b[0m\u001b[1;33m]\u001b[0m\u001b[1;33m\u001b[0m\u001b[1;33m\u001b[0m\u001b[0m\n\u001b[0;32m     14\u001b[0m \u001b[1;33m\u001b[0m\u001b[0m\n",
      "\u001b[1;32mc:\\Users\\manan\\anaconda3\\lib\\site-packages\\nltk\\corpus\\reader\\wordlist.py\u001b[0m in \u001b[0;36mwords\u001b[1;34m(self, fileids, ignore_lines_startswith)\u001b[0m\n\u001b[0;32m     19\u001b[0m         return [\n\u001b[0;32m     20\u001b[0m             \u001b[0mline\u001b[0m\u001b[1;33m\u001b[0m\u001b[1;33m\u001b[0m\u001b[0m\n\u001b[1;32m---> 21\u001b[1;33m             \u001b[1;32mfor\u001b[0m \u001b[0mline\u001b[0m \u001b[1;32min\u001b[0m \u001b[0mline_tokenize\u001b[0m\u001b[1;33m(\u001b[0m\u001b[0mself\u001b[0m\u001b[1;33m.\u001b[0m\u001b[0mraw\u001b[0m\u001b[1;33m(\u001b[0m\u001b[0mfileids\u001b[0m\u001b[1;33m)\u001b[0m\u001b[1;33m)\u001b[0m\u001b[1;33m\u001b[0m\u001b[1;33m\u001b[0m\u001b[0m\n\u001b[0m\u001b[0;32m     22\u001b[0m             \u001b[1;32mif\u001b[0m \u001b[1;32mnot\u001b[0m \u001b[0mline\u001b[0m\u001b[1;33m.\u001b[0m\u001b[0mstartswith\u001b[0m\u001b[1;33m(\u001b[0m\u001b[0mignore_lines_startswith\u001b[0m\u001b[1;33m)\u001b[0m\u001b[1;33m\u001b[0m\u001b[1;33m\u001b[0m\u001b[0m\n\u001b[0;32m     23\u001b[0m         ]\n",
      "\u001b[1;32mc:\\Users\\manan\\anaconda3\\lib\\site-packages\\nltk\\corpus\\reader\\api.py\u001b[0m in \u001b[0;36mraw\u001b[1;34m(self, fileids)\u001b[0m\n\u001b[0;32m    216\u001b[0m         \u001b[0mcontents\u001b[0m \u001b[1;33m=\u001b[0m \u001b[1;33m[\u001b[0m\u001b[1;33m]\u001b[0m\u001b[1;33m\u001b[0m\u001b[1;33m\u001b[0m\u001b[0m\n\u001b[0;32m    217\u001b[0m         \u001b[1;32mfor\u001b[0m \u001b[0mf\u001b[0m \u001b[1;32min\u001b[0m \u001b[0mfileids\u001b[0m\u001b[1;33m:\u001b[0m\u001b[1;33m\u001b[0m\u001b[1;33m\u001b[0m\u001b[0m\n\u001b[1;32m--> 218\u001b[1;33m             \u001b[1;32mwith\u001b[0m \u001b[0mself\u001b[0m\u001b[1;33m.\u001b[0m\u001b[0mopen\u001b[0m\u001b[1;33m(\u001b[0m\u001b[0mf\u001b[0m\u001b[1;33m)\u001b[0m \u001b[1;32mas\u001b[0m \u001b[0mfp\u001b[0m\u001b[1;33m:\u001b[0m\u001b[1;33m\u001b[0m\u001b[1;33m\u001b[0m\u001b[0m\n\u001b[0m\u001b[0;32m    219\u001b[0m                 \u001b[0mcontents\u001b[0m\u001b[1;33m.\u001b[0m\u001b[0mappend\u001b[0m\u001b[1;33m(\u001b[0m\u001b[0mfp\u001b[0m\u001b[1;33m.\u001b[0m\u001b[0mread\u001b[0m\u001b[1;33m(\u001b[0m\u001b[1;33m)\u001b[0m\u001b[1;33m)\u001b[0m\u001b[1;33m\u001b[0m\u001b[1;33m\u001b[0m\u001b[0m\n\u001b[0;32m    220\u001b[0m         \u001b[1;32mreturn\u001b[0m \u001b[0mconcat\u001b[0m\u001b[1;33m(\u001b[0m\u001b[0mcontents\u001b[0m\u001b[1;33m)\u001b[0m\u001b[1;33m\u001b[0m\u001b[1;33m\u001b[0m\u001b[0m\n",
      "\u001b[1;32mc:\\Users\\manan\\anaconda3\\lib\\site-packages\\nltk\\corpus\\reader\\api.py\u001b[0m in \u001b[0;36mopen\u001b[1;34m(self, file)\u001b[0m\n\u001b[0;32m    229\u001b[0m         \"\"\"\n\u001b[0;32m    230\u001b[0m         \u001b[0mencoding\u001b[0m \u001b[1;33m=\u001b[0m \u001b[0mself\u001b[0m\u001b[1;33m.\u001b[0m\u001b[0mencoding\u001b[0m\u001b[1;33m(\u001b[0m\u001b[0mfile\u001b[0m\u001b[1;33m)\u001b[0m\u001b[1;33m\u001b[0m\u001b[1;33m\u001b[0m\u001b[0m\n\u001b[1;32m--> 231\u001b[1;33m         \u001b[0mstream\u001b[0m \u001b[1;33m=\u001b[0m \u001b[0mself\u001b[0m\u001b[1;33m.\u001b[0m\u001b[0m_root\u001b[0m\u001b[1;33m.\u001b[0m\u001b[0mjoin\u001b[0m\u001b[1;33m(\u001b[0m\u001b[0mfile\u001b[0m\u001b[1;33m)\u001b[0m\u001b[1;33m.\u001b[0m\u001b[0mopen\u001b[0m\u001b[1;33m(\u001b[0m\u001b[0mencoding\u001b[0m\u001b[1;33m)\u001b[0m\u001b[1;33m\u001b[0m\u001b[1;33m\u001b[0m\u001b[0m\n\u001b[0m\u001b[0;32m    232\u001b[0m         \u001b[1;32mreturn\u001b[0m \u001b[0mstream\u001b[0m\u001b[1;33m\u001b[0m\u001b[1;33m\u001b[0m\u001b[0m\n\u001b[0;32m    233\u001b[0m \u001b[1;33m\u001b[0m\u001b[0m\n",
      "\u001b[1;32mc:\\Users\\manan\\anaconda3\\lib\\site-packages\\nltk\\data.py\u001b[0m in \u001b[0;36mjoin\u001b[1;34m(self, fileid)\u001b[0m\n\u001b[0;32m    332\u001b[0m     \u001b[1;32mdef\u001b[0m \u001b[0mjoin\u001b[0m\u001b[1;33m(\u001b[0m\u001b[0mself\u001b[0m\u001b[1;33m,\u001b[0m \u001b[0mfileid\u001b[0m\u001b[1;33m)\u001b[0m\u001b[1;33m:\u001b[0m\u001b[1;33m\u001b[0m\u001b[1;33m\u001b[0m\u001b[0m\n\u001b[0;32m    333\u001b[0m         \u001b[0m_path\u001b[0m \u001b[1;33m=\u001b[0m \u001b[0mos\u001b[0m\u001b[1;33m.\u001b[0m\u001b[0mpath\u001b[0m\u001b[1;33m.\u001b[0m\u001b[0mjoin\u001b[0m\u001b[1;33m(\u001b[0m\u001b[0mself\u001b[0m\u001b[1;33m.\u001b[0m\u001b[0m_path\u001b[0m\u001b[1;33m,\u001b[0m \u001b[0mfileid\u001b[0m\u001b[1;33m)\u001b[0m\u001b[1;33m\u001b[0m\u001b[1;33m\u001b[0m\u001b[0m\n\u001b[1;32m--> 334\u001b[1;33m         \u001b[1;32mreturn\u001b[0m \u001b[0mFileSystemPathPointer\u001b[0m\u001b[1;33m(\u001b[0m\u001b[0m_path\u001b[0m\u001b[1;33m)\u001b[0m\u001b[1;33m\u001b[0m\u001b[1;33m\u001b[0m\u001b[0m\n\u001b[0m\u001b[0;32m    335\u001b[0m \u001b[1;33m\u001b[0m\u001b[0m\n\u001b[0;32m    336\u001b[0m     \u001b[1;32mdef\u001b[0m \u001b[0m__repr__\u001b[0m\u001b[1;33m(\u001b[0m\u001b[0mself\u001b[0m\u001b[1;33m)\u001b[0m\u001b[1;33m:\u001b[0m\u001b[1;33m\u001b[0m\u001b[1;33m\u001b[0m\u001b[0m\n",
      "\u001b[1;32mc:\\Users\\manan\\anaconda3\\lib\\site-packages\\nltk\\compat.py\u001b[0m in \u001b[0;36m_decorator\u001b[1;34m(*args, **kwargs)\u001b[0m\n\u001b[0;32m     39\u001b[0m     \u001b[1;32mdef\u001b[0m \u001b[0m_decorator\u001b[0m\u001b[1;33m(\u001b[0m\u001b[1;33m*\u001b[0m\u001b[0margs\u001b[0m\u001b[1;33m,\u001b[0m \u001b[1;33m**\u001b[0m\u001b[0mkwargs\u001b[0m\u001b[1;33m)\u001b[0m\u001b[1;33m:\u001b[0m\u001b[1;33m\u001b[0m\u001b[1;33m\u001b[0m\u001b[0m\n\u001b[0;32m     40\u001b[0m         \u001b[0margs\u001b[0m \u001b[1;33m=\u001b[0m \u001b[1;33m(\u001b[0m\u001b[0margs\u001b[0m\u001b[1;33m[\u001b[0m\u001b[1;36m0\u001b[0m\u001b[1;33m]\u001b[0m\u001b[1;33m,\u001b[0m \u001b[0madd_py3_data\u001b[0m\u001b[1;33m(\u001b[0m\u001b[0margs\u001b[0m\u001b[1;33m[\u001b[0m\u001b[1;36m1\u001b[0m\u001b[1;33m]\u001b[0m\u001b[1;33m)\u001b[0m\u001b[1;33m)\u001b[0m \u001b[1;33m+\u001b[0m \u001b[0margs\u001b[0m\u001b[1;33m[\u001b[0m\u001b[1;36m2\u001b[0m\u001b[1;33m:\u001b[0m\u001b[1;33m]\u001b[0m\u001b[1;33m\u001b[0m\u001b[1;33m\u001b[0m\u001b[0m\n\u001b[1;32m---> 41\u001b[1;33m         \u001b[1;32mreturn\u001b[0m \u001b[0minit_func\u001b[0m\u001b[1;33m(\u001b[0m\u001b[1;33m*\u001b[0m\u001b[0margs\u001b[0m\u001b[1;33m,\u001b[0m \u001b[1;33m**\u001b[0m\u001b[0mkwargs\u001b[0m\u001b[1;33m)\u001b[0m\u001b[1;33m\u001b[0m\u001b[1;33m\u001b[0m\u001b[0m\n\u001b[0m\u001b[0;32m     42\u001b[0m \u001b[1;33m\u001b[0m\u001b[0m\n\u001b[0;32m     43\u001b[0m     \u001b[1;32mreturn\u001b[0m \u001b[0mwraps\u001b[0m\u001b[1;33m(\u001b[0m\u001b[0minit_func\u001b[0m\u001b[1;33m)\u001b[0m\u001b[1;33m(\u001b[0m\u001b[0m_decorator\u001b[0m\u001b[1;33m)\u001b[0m\u001b[1;33m\u001b[0m\u001b[1;33m\u001b[0m\u001b[0m\n",
      "\u001b[1;32mc:\\Users\\manan\\anaconda3\\lib\\site-packages\\nltk\\data.py\u001b[0m in \u001b[0;36m__init__\u001b[1;34m(self, _path)\u001b[0m\n\u001b[0;32m    309\u001b[0m \u001b[1;33m\u001b[0m\u001b[0m\n\u001b[0;32m    310\u001b[0m         \u001b[0m_path\u001b[0m \u001b[1;33m=\u001b[0m \u001b[0mos\u001b[0m\u001b[1;33m.\u001b[0m\u001b[0mpath\u001b[0m\u001b[1;33m.\u001b[0m\u001b[0mabspath\u001b[0m\u001b[1;33m(\u001b[0m\u001b[0m_path\u001b[0m\u001b[1;33m)\u001b[0m\u001b[1;33m\u001b[0m\u001b[1;33m\u001b[0m\u001b[0m\n\u001b[1;32m--> 311\u001b[1;33m         \u001b[1;32mif\u001b[0m \u001b[1;32mnot\u001b[0m \u001b[0mos\u001b[0m\u001b[1;33m.\u001b[0m\u001b[0mpath\u001b[0m\u001b[1;33m.\u001b[0m\u001b[0mexists\u001b[0m\u001b[1;33m(\u001b[0m\u001b[0m_path\u001b[0m\u001b[1;33m)\u001b[0m\u001b[1;33m:\u001b[0m\u001b[1;33m\u001b[0m\u001b[1;33m\u001b[0m\u001b[0m\n\u001b[0m\u001b[0;32m    312\u001b[0m             \u001b[1;32mraise\u001b[0m \u001b[0mOSError\u001b[0m\u001b[1;33m(\u001b[0m\u001b[1;34m\"No such file or directory: %r\"\u001b[0m \u001b[1;33m%\u001b[0m \u001b[0m_path\u001b[0m\u001b[1;33m)\u001b[0m\u001b[1;33m\u001b[0m\u001b[1;33m\u001b[0m\u001b[0m\n\u001b[0;32m    313\u001b[0m         \u001b[0mself\u001b[0m\u001b[1;33m.\u001b[0m\u001b[0m_path\u001b[0m \u001b[1;33m=\u001b[0m \u001b[0m_path\u001b[0m\u001b[1;33m\u001b[0m\u001b[1;33m\u001b[0m\u001b[0m\n",
      "\u001b[1;32mc:\\Users\\manan\\anaconda3\\lib\\genericpath.py\u001b[0m in \u001b[0;36mexists\u001b[1;34m(path)\u001b[0m\n\u001b[0;32m     17\u001b[0m     \u001b[1;34m\"\"\"Test whether a path exists.  Returns False for broken symbolic links\"\"\"\u001b[0m\u001b[1;33m\u001b[0m\u001b[1;33m\u001b[0m\u001b[0m\n\u001b[0;32m     18\u001b[0m     \u001b[1;32mtry\u001b[0m\u001b[1;33m:\u001b[0m\u001b[1;33m\u001b[0m\u001b[1;33m\u001b[0m\u001b[0m\n\u001b[1;32m---> 19\u001b[1;33m         \u001b[0mos\u001b[0m\u001b[1;33m.\u001b[0m\u001b[0mstat\u001b[0m\u001b[1;33m(\u001b[0m\u001b[0mpath\u001b[0m\u001b[1;33m)\u001b[0m\u001b[1;33m\u001b[0m\u001b[1;33m\u001b[0m\u001b[0m\n\u001b[0m\u001b[0;32m     20\u001b[0m     \u001b[1;32mexcept\u001b[0m \u001b[1;33m(\u001b[0m\u001b[0mOSError\u001b[0m\u001b[1;33m,\u001b[0m \u001b[0mValueError\u001b[0m\u001b[1;33m)\u001b[0m\u001b[1;33m:\u001b[0m\u001b[1;33m\u001b[0m\u001b[1;33m\u001b[0m\u001b[0m\n\u001b[0;32m     21\u001b[0m         \u001b[1;32mreturn\u001b[0m \u001b[1;32mFalse\u001b[0m\u001b[1;33m\u001b[0m\u001b[1;33m\u001b[0m\u001b[0m\n",
      "\u001b[1;31mKeyboardInterrupt\u001b[0m: "
     ]
    }
   ],
   "source": [
    "# Apply preprocessing to all samples\n",
    "preprocessed_samples = []\n",
    "for i, text in enumerate(sample_text):\n",
    "    if i < 45000: # Limit to first 45000 samples for demonstration\n",
    "        preprocessed_samples.append(preprocess_text(text))\n",
    "    else:\n",
    "        break\n",
    "\n",
    "print(f\"Preprocessed {len(preprocessed_samples)} samples\")\n",
    "\n",
    "# Convert preprocessed data to a format suitable for CSV\n",
    "preprocessed_data = []\n",
    "for i, sample in enumerate(preprocessed_samples):\n",
    "    # Create a row for each sample with sample index and preprocessing stages\n",
    "    sample_data = {\n",
    "        'sample_id': i,\n",
    "        'original_text': sample['original'],  # Truncate original text to avoid huge CSV\n",
    "        'tokens_clean': ' '.join(sample['no_punctuation'])\n",
    "    }\n",
    "    preprocessed_data.append(sample_data)\n",
    "\n",
    "# Convert to DataFrame\n",
    "import pandas as pd\n",
    "import os\n",
    "\n",
    "# Convert to DataFrame\n",
    "df = pd.DataFrame(preprocessed_data)\n",
    "\n",
    "# Create directory for output if it doesn't exist\n",
    "output_dir = \"preprocessed_data\"\n",
    "os.makedirs(output_dir, exist_ok=True)\n",
    "\n",
    "# Save to CSV\n",
    "csv_path = os.path.join(output_dir, \"preprocessed_samples.csv\")\n",
    "df.to_csv(csv_path, index=False)\n",
    "\n",
    "print(f\"\\nSaved preprocessed data to {csv_path}\")\n",
    "print(f\"DataFrame shape: {df.shape}\")\n",
    "\n",
    "# Display the first few rows of the DataFrame\n",
    "print(\"\\nPreview of the saved data:\")\n",
    "display(df.head())"
   ]
  },
  {
   "cell_type": "markdown",
   "id": "e2c74653",
   "metadata": {},
   "source": [
    "## Detailed Analysis of any sample for dislaying Preprocessing Steps"
   ]
  },
  {
   "cell_type": "code",
   "execution_count": 34,
   "id": "ee081bc1",
   "metadata": {},
   "outputs": [
    {
     "name": "stdout",
     "output_type": "stream",
     "text": [
      "ORIGINAL TEXT (truncated):\n",
      "Colameta used customer information that he took from Protégé. Additionally, Colameta admits to having taken at least two Protégé proposals with him to Monument. This type of information may constitute trade secrets. See G.L.c. 266, §30 (defining “trade secret” as used in G.L.c. 93, §42, as including “anything tangible or intangible or electronically kept or stored, which constitutes, represents, evidences or records a secret scientific, technical, merchandising, production or management informat...\n",
      "\n",
      "STEP 1: TOKENIZATION (first 50 tokens)\n",
      "['Colameta', 'used', 'customer', 'information', 'that', 'he', 'took', 'from', 'Protégé', '.', 'Additionally', ',', 'Colameta', 'admits', 'to', 'having', 'taken', 'at', 'least', 'two', 'Protégé', 'proposals', 'with', 'him', 'to', 'Monument', '.', 'This', 'type', 'of', 'information', 'may', 'constitute', 'trade', 'secrets', '.', 'See', 'G.L.c', '.', '266', ',', '§30', '(', 'defining', '“', 'trade', 'secret', '”', 'as', 'used', 'in', 'G.L.c', '.', '93', ',', '§42', ',', 'as', 'including', '“', 'anything', 'tangible', 'or', 'intangible', 'or', 'electronically', 'kept', 'or', 'stored', ',', 'which', 'constitutes', ',', 'represents', ',', 'evidences', 'or', 'records']\n",
      "Total tokens: 167\n",
      "\n",
      "STEP 2: LOWERCASE (first 50 tokens)\n",
      "['colameta', 'used', 'customer', 'information', 'that', 'he', 'took', 'from', 'protégé', '.', 'additionally', ',', 'colameta', 'admits', 'to', 'having', 'taken', 'at', 'least', 'two', 'protégé', 'proposals', 'with', 'him', 'to', 'monument', '.', 'this', 'type', 'of', 'information', 'may', 'constitute', 'trade', 'secrets', '.', 'see', 'g.l.c', '.', '266', ',', '§30', '(', 'defining', '“', 'trade', 'secret', '”', 'as', 'used', 'in', 'g.l.c', '.', '93', ',', '§42', ',', 'as', 'including', '“', 'anything', 'tangible', 'or', 'intangible', 'or', 'electronically', 'kept', 'or', 'stored', ',', 'which', 'constitutes', ',', 'represents', ',', 'evidences', 'or', 'records']\n",
      "Total tokens: 167\n",
      "\n",
      "STEP 3: STOPWORD REMOVAL (first 50 tokens)\n",
      "['colameta', 'used', 'customer', 'information', 'took', 'protégé', '.', 'additionally', ',', 'colameta', 'admits', 'taken', 'least', 'two', 'protégé', 'proposals', 'monument', '.', 'type', 'information', 'may', 'constitute', 'trade', 'secrets', '.', 'see', 'g.l.c', '.', '266', ',', '§30', '(', 'defining', '“', 'trade', 'secret', '”', 'used', 'g.l.c', '.', '93', ',', '§42', ',', 'including', '“', 'anything', 'tangible', 'intangible', 'electronically', 'kept', 'stored', ',', 'constitutes', ',', 'represents', ',', 'evidences', 'records', 'secret', 'scientific', ',', 'technical', ',', 'merchandising', ',', 'production', 'management', 'information', ',', 'design', ',', 'process', ',', 'procedure', ',', 'formula', ',']\n",
      "Total tokens: 133\n",
      "\n",
      "STEP 4: PUNCTUATION REMOVAL (first 50 tokens)\n",
      "['colameta', 'used', 'customer', 'information', 'took', 'protégé', 'additionally', 'colameta', 'admits', 'taken', 'least', 'two', 'protégé', 'proposals', 'monument', 'type', 'information', 'may', 'constitute', 'trade', 'secrets', 'see', '266', 'defining', 'trade', 'secret', 'used', '93', 'including', 'anything', 'tangible', 'intangible', 'electronically', 'kept', 'stored', 'constitutes', 'represents', 'evidences', 'records', 'secret', 'scientific', 'technical', 'merchandising', 'production', 'management', 'information', 'design', 'process', 'procedure', 'formula', 'invention', 'improvement', '427', 'mass', '49', 'confidential', 'proprietary', 'business', 'information', 'may', 'entitled', 'protection', 'even', 'information', 'claim', 'trade', 'secret', 'protection', 'see', 'augat', '409', 'mass', '173', 'holding', 'matters', 'public', 'knowledge', 'general']\n",
      "Total tokens: 78\n",
      "\n"
     ]
    }
   ],
   "source": [
    "# Focus on Sample 1 for detailed analysis\n",
    "sample_idx = 1\n",
    "sample = preprocessed_samples[sample_idx]\n",
    "\n",
    "# Original text\n",
    "print(f\"ORIGINAL TEXT (truncated):\\n{sample['original'][:500]}...\\n\")\n",
    "\n",
    "# Step 1: Tokenization\n",
    "print(f\"STEP 1: TOKENIZATION (first 50 tokens)\")\n",
    "print(sample['tokenized'][:78])\n",
    "print(f\"Total tokens: {len(sample['tokenized'])}\\n\")\n",
    "\n",
    "# Step 2: Lowercase\n",
    "print(f\"STEP 2: LOWERCASE (first 50 tokens)\")\n",
    "print(sample['lowercase'][:78])\n",
    "print(f\"Total tokens: {len(sample['lowercase'])}\\n\")\n",
    "\n",
    "# Step 3: Stopword Removal\n",
    "print(f\"STEP 3: STOPWORD REMOVAL (first 50 tokens)\")\n",
    "print(sample['no_stopwords'][:78])\n",
    "print(f\"Total tokens: {len(sample['no_stopwords'])}\\n\")\n",
    "\n",
    "# Step 4: Punctuation Removal\n",
    "print(f\"STEP 4: PUNCTUATION REMOVAL (first 50 tokens)\")\n",
    "print(sample['no_punctuation'][:78])\n",
    "print(f\"Total tokens: {len(sample['no_punctuation'])}\\n\")"
   ]
  },
  {
   "cell_type": "code",
   "execution_count": 35,
   "id": "73f99171",
   "metadata": {},
   "outputs": [
    {
     "name": "stdout",
     "output_type": "stream",
     "text": [
      "TOP 20 WORDS IN SAMPLE 1 (after preprocessing):\n",
      "information: 5\n",
      "trade: 3\n",
      "secret: 3\n",
      "colameta: 2\n",
      "used: 2\n",
      "protégé: 2\n",
      "may: 2\n",
      "see: 2\n",
      "mass: 2\n",
      "protection: 2\n",
      "customer: 1\n",
      "took: 1\n",
      "additionally: 1\n",
      "admits: 1\n",
      "taken: 1\n",
      "least: 1\n",
      "two: 1\n",
      "proposals: 1\n",
      "monument: 1\n",
      "type: 1\n"
     ]
    }
   ],
   "source": [
    "# Frequency Analysis for Sample 1\n",
    "tokens_sample1 = sample['no_punctuation']\n",
    "word_freq = Counter(tokens_sample1)\n",
    "\n",
    "# Display most common words\n",
    "print(\"TOP 20 WORDS IN SAMPLE 1 (after preprocessing):\")\n",
    "for word, count in word_freq.most_common(20):\n",
    "    print(f\"{word}: {count}\")"
   ]
  },
  {
   "cell_type": "code",
   "execution_count": 36,
   "id": "6354b18a",
   "metadata": {},
   "outputs": [
    {
     "data": {
      "image/png": "[encoded data removed]",
      "text/plain": [
       "<Figure size 1200x600 with 1 Axes>"
      ]
     },
     "metadata": {},
     "output_type": "display_data"
    }
   ],
   "source": [
    "# Visualize the word frequency\n",
    "plt.figure(figsize=(12, 6))\n",
    "top_words = dict(word_freq.most_common(15))\n",
    "sns.barplot(x=list(top_words.keys()), y=list(top_words.values()))\n",
    "plt.title('Top 15 Words by Frequency in Sample 1')\n",
    "plt.xlabel('Word')\n",
    "plt.ylabel('Frequency')\n",
    "plt.xticks(rotation=45, ha='right')\n",
    "plt.tight_layout()\n",
    "plt.show()"
   ]
  },
  {
   "cell_type": "markdown",
   "id": "29b79b2d",
   "metadata": {},
   "source": [
    "## Aggregated Analysis Across All Preprocessed Samples"
   ]
  },
  {
   "cell_type": "code",
   "execution_count": 37,
   "id": "35429b31",
   "metadata": {},
   "outputs": [
    {
     "name": "stdout",
     "output_type": "stream",
     "text": [
      "Total unique words across all samples: 42420\n",
      "\n",
      "TOP 20 WORDS ACROSS ALL SAMPLES:\n",
      "see: 11874\n",
      "holding: 10903\n",
      "court: 10875\n",
      "state: 5295\n",
      "also: 4196\n",
      "states: 4116\n",
      "united: 3902\n",
      "id: 3209\n",
      "evidence: 3029\n",
      "defendant: 3004\n",
      "case: 2880\n",
      "trial: 2836\n",
      "law: 2751\n",
      "may: 2639\n",
      "district: 2583\n",
      "claim: 2546\n",
      "would: 2454\n",
      "whether: 2327\n",
      "1: 2285\n",
      "2: 1947\n"
     ]
    }
   ],
   "source": [
    "# Combine all preprocessed tokens\n",
    "all_tokens = []\n",
    "for sample in preprocessed_samples:\n",
    "    all_tokens.extend(sample['no_punctuation'])\n",
    "\n",
    "# Calculate frequency distribution\n",
    "all_word_freq = Counter(all_tokens)\n",
    "\n",
    "print(f\"Total unique words across all samples: {len(all_word_freq)}\")\n",
    "print(\"\\nTOP 20 WORDS ACROSS ALL SAMPLES:\")\n",
    "for word, count in all_word_freq.most_common(20):\n",
    "    print(f\"{word}: {count}\")"
   ]
  },
  {
   "cell_type": "code",
   "execution_count": 38,
   "id": "3364c6a1",
   "metadata": {},
   "outputs": [
    {
     "data": {
      "image/png": "[encoded data removed]",
      "text/plain": [
       "<Figure size 1400x700 with 1 Axes>"
      ]
     },
     "metadata": {},
     "output_type": "display_data"
    }
   ],
   "source": [
    "# Visualize word frequency across all samples\n",
    "plt.figure(figsize=(14, 7))\n",
    "top_all_words = dict(all_word_freq.most_common(20))\n",
    "sns.barplot(x=list(top_all_words.keys()), y=list(top_all_words.values()))\n",
    "plt.title('Top 20 Words by Frequency Across All Samples')\n",
    "plt.xlabel('Word')\n",
    "plt.ylabel('Frequency')\n",
    "plt.xticks(rotation=45, ha='right')\n",
    "plt.tight_layout()\n",
    "plt.show()"
   ]
  },
  {
   "cell_type": "markdown",
   "id": "351c9bb3",
   "metadata": {},
   "source": [
    "## Named Entity Recognition (NER) on Individual Samples\n",
    "\n",
    "We'll perform NER on each preprocessed sample individually to extract legal entities such as people, organizations, laws, etc."
   ]
  },
  {
   "cell_type": "code",
   "execution_count": 39,
   "id": "4e254ed2",
   "metadata": {},
   "outputs": [
    {
     "name": "stderr",
     "output_type": "stream",
     "text": [
      "c:\\Users\\manan\\anaconda3\\lib\\site-packages\\torch\\utils\\_pytree.py:185: FutureWarning: optree is installed but the version is too old to support PyTorch Dynamo in C++ pytree. C++ pytree support is disabled. Please consider upgrading optree using `python3 -m pip install --upgrade 'optree>=0.13.0'`.\n",
      "  warnings.warn(\n"
     ]
    },
    {
     "name": "stdout",
     "output_type": "stream",
     "text": [
      "Loading spaCy model...\n",
      "Model loaded successfully!\n",
      "Model loaded successfully!\n"
     ]
    }
   ],
   "source": [
    "# Install spaCy if not already installed\n",
    "# !pip install spacy\n",
    "# !python -m spacy download en_core_web_sm\n",
    "\n",
    "import spacy\n",
    "from spacy import displacy\n",
    "import pandas as pd\n",
    "import matplotlib.pyplot as plt\n",
    "from collections import Counter\n",
    "import os\n",
    "import numpy as np\n",
    "\n",
    "# Load the spaCy model\n",
    "print(\"Loading spaCy model...\")\n",
    "nlp = spacy.load('en_core_web_lg')\n",
    "print(\"Model loaded successfully!\")"
   ]
  },
  {
   "cell_type": "code",
   "execution_count": 40,
   "id": "5b0a5500",
   "metadata": {},
   "outputs": [
    {
     "data": {
      "text/html": [
       "<div>\n",
       "<style scoped>\n",
       "    .dataframe tbody tr th:only-of-type {\n",
       "        vertical-align: middle;\n",
       "    }\n",
       "\n",
       "    .dataframe tbody tr th {\n",
       "        vertical-align: top;\n",
       "    }\n",
       "\n",
       "    .dataframe thead th {\n",
       "        text-align: right;\n",
       "    }\n",
       "</style>\n",
       "<table border=\"1\" class=\"dataframe\">\n",
       "  <thead>\n",
       "    <tr style=\"text-align: right;\">\n",
       "      <th></th>\n",
       "      <th>sample_id</th>\n",
       "      <th>original_text</th>\n",
       "      <th>tokens_clean</th>\n",
       "    </tr>\n",
       "  </thead>\n",
       "  <tbody>\n",
       "    <tr>\n",
       "      <th>0</th>\n",
       "      <td>0</td>\n",
       "      <td>Drapeau’s cohorts, the cohort would be a “vict...</td>\n",
       "      <td>drapeau cohorts cohort would victim making bom...</td>\n",
       "    </tr>\n",
       "    <tr>\n",
       "      <th>1</th>\n",
       "      <td>1</td>\n",
       "      <td>Colameta used customer information that he too...</td>\n",
       "      <td>colameta used customer information took protég...</td>\n",
       "    </tr>\n",
       "    <tr>\n",
       "      <th>2</th>\n",
       "      <td>2</td>\n",
       "      <td>property tax sale. In reviewing section 6323(b...</td>\n",
       "      <td>property tax sale reviewing section 6323 b 6 c...</td>\n",
       "    </tr>\n",
       "    <tr>\n",
       "      <th>3</th>\n",
       "      <td>3</td>\n",
       "      <td>They also rely on Oswego Laborers’ Local 214 P...</td>\n",
       "      <td>also rely oswego laborers local 214 pension fu...</td>\n",
       "    </tr>\n",
       "    <tr>\n",
       "      <th>4</th>\n",
       "      <td>4</td>\n",
       "      <td>did not affect the defendant’s guideline range...</td>\n",
       "      <td>affect defendant guideline range sentence redu...</td>\n",
       "    </tr>\n",
       "  </tbody>\n",
       "</table>\n",
       "</div>"
      ],
      "text/plain": [
       "   sample_id                                      original_text  \\\n",
       "0          0  Drapeau’s cohorts, the cohort would be a “vict...   \n",
       "1          1  Colameta used customer information that he too...   \n",
       "2          2  property tax sale. In reviewing section 6323(b...   \n",
       "3          3  They also rely on Oswego Laborers’ Local 214 P...   \n",
       "4          4  did not affect the defendant’s guideline range...   \n",
       "\n",
       "                                        tokens_clean  \n",
       "0  drapeau cohorts cohort would victim making bom...  \n",
       "1  colameta used customer information took protég...  \n",
       "2  property tax sale reviewing section 6323 b 6 c...  \n",
       "3  also rely oswego laborers local 214 pension fu...  \n",
       "4  affect defendant guideline range sentence redu...  "
      ]
     },
     "execution_count": 40,
     "metadata": {},
     "output_type": "execute_result"
    }
   ],
   "source": [
    "# Load the preprocessed data\n",
    "try:\n",
    "    # If preprocessed data is already in memory, use it\n",
    "    df.head()\n",
    "except NameError:\n",
    "    # Otherwise, load from file\n",
    "    csv_path = os.path.join(\"preprocessed_data\", \"preprocessed_samples.csv\")\n",
    "    df = pd.read_csv(csv_path)\n",
    "    print(f\"Loaded {len(df)} preprocessed samples from {csv_path}\")\n",
    "\n",
    "# Display first few rows\n",
    "df.head()"
   ]
  },
  {
   "cell_type": "code",
   "execution_count": 41,
   "id": "d4305a1c",
   "metadata": {},
   "outputs": [],
   "source": [
    "# Function to process entities for a single sample\n",
    "def extract_entities(text):\n",
    "    \"\"\"\n",
    "    Process a text sample with spaCy and extract entities.\n",
    "    \n",
    "    Args:\n",
    "        text (str): The text to process\n",
    "        \n",
    "    Returns:\n",
    "        tuple: (doc, entities_dict) where:\n",
    "            - doc is the processed spaCy Doc object\n",
    "            - entities_dict is a dictionary of entity lists by type\n",
    "    \"\"\"\n",
    "    # Process with spaCy\n",
    "    doc = nlp(text)\n",
    "    \n",
    "    # Initialize entity dictionary\n",
    "    legal_entities = {\n",
    "        \"PERSON\": [],    # People names\n",
    "        \"ORG\": [],       # Organizations\n",
    "        \"DATE\": [],      # Dates\n",
    "        \"MONEY\": [],     # Monetary values\n",
    "        \"LAW\": [],       # Laws (may be captured as ORG in some models)\n",
    "        \"GPE\": [],       # Geopolitical entities (countries, cities)\n",
    "        \"NORP\": [],      # Nationalities, religious or political groups\n",
    "        \"CARDINAL\": [],  # Numbers\n",
    "        \"ORDINAL\": []    # Ordinal numbers (First, Second, etc.)\n",
    "    }\n",
    "    \n",
    "    # Extract entities\n",
    "    for ent in doc.ents:\n",
    "        if ent.label_ in legal_entities:\n",
    "            legal_entities[ent.label_].append(ent.text)\n",
    "    \n",
    "    return doc, legal_entities"
   ]
  },
  {
   "cell_type": "code",
   "execution_count": 42,
   "id": "db93f022",
   "metadata": {},
   "outputs": [
    {
     "name": "stdout",
     "output_type": "stream",
     "text": [
      "Processed 5 samples\n"
     ]
    }
   ],
   "source": [
    "# Process the first 5 samples to demonstrate\n",
    "num_samples = 5\n",
    "\n",
    "results = []\n",
    "for i in range(min(num_samples, len(df))):\n",
    "    sample = df.iloc[i]\n",
    "    text = sample['original_text']  # Use original text for better entity extraction\n",
    "    sample_id = sample['sample_id']\n",
    "    \n",
    "    # Process text (truncate to first 1000 chars to avoid processing too much)\n",
    "    doc, entities = extract_entities(text[:1000])\n",
    "    \n",
    "    # Store results\n",
    "    results.append({\n",
    "        \"sample_id\": sample_id,\n",
    "        \"text\": text[:500] + \"...\",  # For display purposes\n",
    "        \"doc\": doc,\n",
    "        \"entities\": entities\n",
    "    })\n",
    "\n",
    "# Show first result\n",
    "print(f\"Processed {len(results)} samples\")"
   ]
  },
  {
   "cell_type": "code",
   "execution_count": 44,
   "id": "d33275b3",
   "metadata": {},
   "outputs": [
    {
     "name": "stdout",
     "output_type": "stream",
     "text": [
      "Sample ID: 1\n",
      "Sample text (truncated):\n",
      "Colameta used customer information that he took from Protégé. Additionally, Colameta admits to having taken at least two Protégé proposals with him to Monument. This type of information may constitute trade secrets. See G.L.c. 266, §30 (defining “trade secret” as used in G.L.c. 93, §42, as including “anything tangible or intangible or electronically kept or stored, which constitutes, represents, evidences or records a secret scientific, technical, merchandising, production or management informat...\n",
      "\n",
      "Entities found:\n"
     ]
    },
    {
     "data": {
      "text/html": [
       "<span class=\"tex2jax_ignore\"><div class=\"entities\" style=\"line-height: 2.5; direction: ltr\">\n",
       "<mark class=\"entity\" style=\"background: #7aecec; padding: 0.45em 0.6em; margin: 0 0.25em; line-height: 1; border-radius: 0.35em;\">\n",
       "    Colameta\n",
       "    <span style=\"font-size: 0.8em; font-weight: bold; line-height: 1; border-radius: 0.35em; vertical-align: middle; margin-left: 0.5rem\">ORG</span>\n",
       "</mark>\n",
       " used customer information that he took from Protégé. Additionally, \n",
       "<mark class=\"entity\" style=\"background: #7aecec; padding: 0.45em 0.6em; margin: 0 0.25em; line-height: 1; border-radius: 0.35em;\">\n",
       "    Colameta\n",
       "    <span style=\"font-size: 0.8em; font-weight: bold; line-height: 1; border-radius: 0.35em; vertical-align: middle; margin-left: 0.5rem\">ORG</span>\n",
       "</mark>\n",
       " admits to having taken \n",
       "<mark class=\"entity\" style=\"background: #e4e7d2; padding: 0.45em 0.6em; margin: 0 0.25em; line-height: 1; border-radius: 0.35em;\">\n",
       "    at least two\n",
       "    <span style=\"font-size: 0.8em; font-weight: bold; line-height: 1; border-radius: 0.35em; vertical-align: middle; margin-left: 0.5rem\">CARDINAL</span>\n",
       "</mark>\n",
       " Protégé proposals with him to Monument. This type of information may constitute trade secrets. See \n",
       "<mark class=\"entity\" style=\"background: #7aecec; padding: 0.45em 0.6em; margin: 0 0.25em; line-height: 1; border-radius: 0.35em;\">\n",
       "    G.L.c\n",
       "    <span style=\"font-size: 0.8em; font-weight: bold; line-height: 1; border-radius: 0.35em; vertical-align: middle; margin-left: 0.5rem\">ORG</span>\n",
       "</mark>\n",
       ". \n",
       "<mark class=\"entity\" style=\"background: #e4e7d2; padding: 0.45em 0.6em; margin: 0 0.25em; line-height: 1; border-radius: 0.35em;\">\n",
       "    266\n",
       "    <span style=\"font-size: 0.8em; font-weight: bold; line-height: 1; border-radius: 0.35em; vertical-align: middle; margin-left: 0.5rem\">CARDINAL</span>\n",
       "</mark>\n",
       ", §30 (defining “trade secret” as used in \n",
       "<mark class=\"entity\" style=\"background: #7aecec; padding: 0.45em 0.6em; margin: 0 0.25em; line-height: 1; border-radius: 0.35em;\">\n",
       "    G.L.c\n",
       "    <span style=\"font-size: 0.8em; font-weight: bold; line-height: 1; border-radius: 0.35em; vertical-align: middle; margin-left: 0.5rem\">ORG</span>\n",
       "</mark>\n",
       ". \n",
       "<mark class=\"entity\" style=\"background: #e4e7d2; padding: 0.45em 0.6em; margin: 0 0.25em; line-height: 1; border-radius: 0.35em;\">\n",
       "    93\n",
       "    <span style=\"font-size: 0.8em; font-weight: bold; line-height: 1; border-radius: 0.35em; vertical-align: middle; margin-left: 0.5rem\">CARDINAL</span>\n",
       "</mark>\n",
       ", §\n",
       "<mark class=\"entity\" style=\"background: #e4e7d2; padding: 0.45em 0.6em; margin: 0 0.25em; line-height: 1; border-radius: 0.35em;\">\n",
       "    42\n",
       "    <span style=\"font-size: 0.8em; font-weight: bold; line-height: 1; border-radius: 0.35em; vertical-align: middle; margin-left: 0.5rem\">CARDINAL</span>\n",
       "</mark>\n",
       ", as including “anything tangible or intangible or electronically kept or stored, which constitutes, represents, evidences or records a secret scientific, technical, merchandising, production or management information, design, process, procedure, formula, invention or improvement”); \n",
       "<mark class=\"entity\" style=\"background: #7aecec; padding: 0.45em 0.6em; margin: 0 0.25em; line-height: 1; border-radius: 0.35em;\">\n",
       "    Warner-Lambert Co.\n",
       "    <span style=\"font-size: 0.8em; font-weight: bold; line-height: 1; border-radius: 0.35em; vertical-align: middle; margin-left: 0.5rem\">ORG</span>\n",
       "</mark>\n",
       ", \n",
       "<mark class=\"entity\" style=\"background: #e4e7d2; padding: 0.45em 0.6em; margin: 0 0.25em; line-height: 1; border-radius: 0.35em;\">\n",
       "    427\n",
       "    <span style=\"font-size: 0.8em; font-weight: bold; line-height: 1; border-radius: 0.35em; vertical-align: middle; margin-left: 0.5rem\">CARDINAL</span>\n",
       "</mark>\n",
       " \n",
       "<mark class=\"entity\" style=\"background: #feca74; padding: 0.45em 0.6em; margin: 0 0.25em; line-height: 1; border-radius: 0.35em;\">\n",
       "    Mass.\n",
       "    <span style=\"font-size: 0.8em; font-weight: bold; line-height: 1; border-radius: 0.35em; vertical-align: middle; margin-left: 0.5rem\">GPE</span>\n",
       "</mark>\n",
       " at \n",
       "<mark class=\"entity\" style=\"background: #bfe1d9; padding: 0.45em 0.6em; margin: 0 0.25em; line-height: 1; border-radius: 0.35em;\">\n",
       "    49\n",
       "    <span style=\"font-size: 0.8em; font-weight: bold; line-height: 1; border-radius: 0.35em; vertical-align: middle; margin-left: 0.5rem\">DATE</span>\n",
       "</mark>\n",
       " (“ [Confidential and proprietary business information may be entitled to protection, even if such information cannot claim trade secret protection”); see, e.g., \n",
       "<mark class=\"entity\" style=\"background: #7aecec; padding: 0.45em 0.6em; margin: 0 0.25em; line-height: 1; border-radius: 0.35em;\">\n",
       "    Augat, Inc.\n",
       "    <span style=\"font-size: 0.8em; font-weight: bold; line-height: 1; border-radius: 0.35em; vertical-align: middle; margin-left: 0.5rem\">ORG</span>\n",
       "</mark>\n",
       ", \n",
       "<mark class=\"entity\" style=\"background: #e4e7d2; padding: 0.45em 0.6em; margin: 0 0.25em; line-height: 1; border-radius: 0.35em;\">\n",
       "    409\n",
       "    <span style=\"font-size: 0.8em; font-weight: bold; line-height: 1; border-radius: 0.35em; vertical-align: middle; margin-left: 0.5rem\">CARDINAL</span>\n",
       "</mark>\n",
       " \n",
       "<mark class=\"entity\" style=\"background: #feca74; padding: 0.45em 0.6em; margin: 0 0.25em; line-height: 1; border-radius: 0.35em;\">\n",
       "    Mass.\n",
       "    <span style=\"font-size: 0.8em; font-weight: bold; line-height: 1; border-radius: 0.35em; vertical-align: middle; margin-left: 0.5rem\">GPE</span>\n",
       "</mark>\n",
       " at \n",
       "<mark class=\"entity\" style=\"background: #e4e7d2; padding: 0.45em 0.6em; margin: 0 0.25em; line-height: 1; border-radius: 0.35em;\">\n",
       "    173\n",
       "    <span style=\"font-size: 0.8em; font-weight: bold; line-height: 1; border-radius: 0.35em; vertical-align: middle; margin-left: 0.5rem\">CARDINAL</span>\n",
       "</mark>\n",
       " (&lt;HOLDING&gt;). “Matters of public knowledge or of general</div></span>"
      ],
      "text/plain": [
       "<IPython.core.display.HTML object>"
      ]
     },
     "metadata": {},
     "output_type": "display_data"
    },
    {
     "name": "stdout",
     "output_type": "stream",
     "text": [
      "\n",
      "Entity counts by type:\n",
      "ORG: 6 (Colameta, Colameta, G.L.c, G.L.c, Warner-Lambert Co....)\n",
      "DATE: 1 (49)\n",
      "GPE: 2 (Mass., Mass.)\n",
      "CARDINAL: 7 (at least two, 266, 93, 42, 427...)\n"
     ]
    }
   ],
   "source": [
    "# Display entity visualization for the first sample\n",
    "sample_idx = 1  # Change this to view different samples\n",
    "sample_result = results[sample_idx]\n",
    "\n",
    "print(f\"Sample ID: {sample_result['sample_id']}\")\n",
    "print(\"Sample text (truncated):\")\n",
    "print(sample_result['text'])\n",
    "print(\"\\nEntities found:\")\n",
    "\n",
    "# Display entity visualization\n",
    "displacy.render(sample_result['doc'], style=\"ent\", jupyter=True)\n",
    "\n",
    "# Display entity counts by type\n",
    "print(\"\\nEntity counts by type:\")\n",
    "for entity_type, entities in sample_result['entities'].items():\n",
    "    if entities:  # Only show non-empty entity types\n",
    "        print(f\"{entity_type}: {len(entities)} ({', '.join(entities[:5])}{'...' if len(entities) > 5 else ''})\")"
   ]
  },
  {
   "cell_type": "code",
   "execution_count": 45,
   "id": "8194175b",
   "metadata": {},
   "outputs": [],
   "source": [
    "# Function to process a batch of samples\n",
    "def process_batch(df, start_idx, batch_size):\n",
    "    batch_results = []\n",
    "    \n",
    "    for i in range(start_idx, min(start_idx + batch_size, len(df))):\n",
    "        sample = df.iloc[i]\n",
    "        text = sample['original_text']\n",
    "        sample_id = sample['sample_id']\n",
    "        \n",
    "        try:\n",
    "            # Process only the first 1000 characters to save time\n",
    "            doc, entities = extract_entities(text[:1000])\n",
    "            \n",
    "            # Count entities by type\n",
    "            entity_counts = {entity_type: len(entities_list) \n",
    "                            for entity_type, entities_list in entities.items()}\n",
    "            \n",
    "            # Store results with entity counts\n",
    "            batch_results.append({\n",
    "                \"sample_id\": sample_id,\n",
    "                \"entity_counts\": entity_counts,\n",
    "                \"entities\": entities\n",
    "            })\n",
    "        except Exception as e:\n",
    "            print(f\"Error processing sample {sample_id}: {e}\")\n",
    "    \n",
    "    return batch_results"
   ]
  },
  {
   "cell_type": "code",
   "execution_count": 46,
   "id": "a1fafeac",
   "metadata": {},
   "outputs": [
    {
     "name": "stdout",
     "output_type": "stream",
     "text": [
      "Processing 50 samples starting from index 0...\n",
      "Successfully processed 50 samples\n",
      "\n",
      "Summary of entity counts across samples:\n",
      "          PERSON        ORG       DATE      MONEY        LAW        GPE  \\\n",
      "count  50.000000  50.000000  50.000000  50.000000  50.000000  50.000000   \n",
      "mean    2.500000   3.880000   2.080000   0.240000   0.360000   1.740000   \n",
      "std     1.669046   2.592296   1.759406   0.656521   0.942424   1.601148   \n",
      "min     0.000000   0.000000   0.000000   0.000000   0.000000   0.000000   \n",
      "25%     1.000000   2.000000   1.000000   0.000000   0.000000   0.000000   \n",
      "50%     2.000000   3.500000   2.000000   0.000000   0.000000   2.000000   \n",
      "75%     3.000000   6.000000   3.000000   0.000000   0.000000   2.000000   \n",
      "max     6.000000  10.000000   7.000000   4.000000   5.000000   8.000000   \n",
      "\n",
      "            NORP   CARDINAL    ORDINAL  \n",
      "count  50.000000  50.000000  50.000000  \n",
      "mean    0.040000   7.540000   0.760000  \n",
      "std     0.197949   5.489173   1.079682  \n",
      "min     0.000000   0.000000   0.000000  \n",
      "25%     0.000000   4.000000   0.000000  \n",
      "50%     0.000000   6.500000   0.000000  \n",
      "75%     0.000000   9.000000   1.000000  \n",
      "max     1.000000  22.000000   4.000000  \n",
      "\n",
      "Total entity counts by type:\n",
      "CARDINAL    377\n",
      "ORG         194\n",
      "PERSON      125\n",
      "DATE        104\n",
      "GPE          87\n",
      "ORDINAL      38\n",
      "LAW          18\n",
      "MONEY        12\n",
      "NORP          2\n",
      "dtype: int64\n",
      "Successfully processed 50 samples\n",
      "\n",
      "Summary of entity counts across samples:\n",
      "          PERSON        ORG       DATE      MONEY        LAW        GPE  \\\n",
      "count  50.000000  50.000000  50.000000  50.000000  50.000000  50.000000   \n",
      "mean    2.500000   3.880000   2.080000   0.240000   0.360000   1.740000   \n",
      "std     1.669046   2.592296   1.759406   0.656521   0.942424   1.601148   \n",
      "min     0.000000   0.000000   0.000000   0.000000   0.000000   0.000000   \n",
      "25%     1.000000   2.000000   1.000000   0.000000   0.000000   0.000000   \n",
      "50%     2.000000   3.500000   2.000000   0.000000   0.000000   2.000000   \n",
      "75%     3.000000   6.000000   3.000000   0.000000   0.000000   2.000000   \n",
      "max     6.000000  10.000000   7.000000   4.000000   5.000000   8.000000   \n",
      "\n",
      "            NORP   CARDINAL    ORDINAL  \n",
      "count  50.000000  50.000000  50.000000  \n",
      "mean    0.040000   7.540000   0.760000  \n",
      "std     0.197949   5.489173   1.079682  \n",
      "min     0.000000   0.000000   0.000000  \n",
      "25%     0.000000   4.000000   0.000000  \n",
      "50%     0.000000   6.500000   0.000000  \n",
      "75%     0.000000   9.000000   1.000000  \n",
      "max     1.000000  22.000000   4.000000  \n",
      "\n",
      "Total entity counts by type:\n",
      "CARDINAL    377\n",
      "ORG         194\n",
      "PERSON      125\n",
      "DATE        104\n",
      "GPE          87\n",
      "ORDINAL      38\n",
      "LAW          18\n",
      "MONEY        12\n",
      "NORP          2\n",
      "dtype: int64\n"
     ]
    }
   ],
   "source": [
    "# Process a larger batch of samples\n",
    "batch_size = 50  # Adjust this number based on your available memory and time constraints\n",
    "start_idx = 0\n",
    "\n",
    "print(f\"Processing {batch_size} samples starting from index {start_idx}...\")\n",
    "batch_results = process_batch(df, start_idx, batch_size)\n",
    "print(f\"Successfully processed {len(batch_results)} samples\")\n",
    "\n",
    "# Convert results to DataFrame for easier analysis\n",
    "entities_df = pd.DataFrame(batch_results)\n",
    "\n",
    "# Add columns for each entity type count\n",
    "for entity_type in next(iter(batch_results))['entity_counts'].keys():\n",
    "    entities_df[entity_type] = entities_df['entity_counts'].apply(lambda x: x.get(entity_type, 0))\n",
    "\n",
    "# Display summary\n",
    "print(\"\\nSummary of entity counts across samples:\")\n",
    "entity_cols = [col for col in entities_df.columns if col not in ['sample_id', 'entity_counts', 'entities']]\n",
    "print(entities_df[entity_cols].describe())\n",
    "\n",
    "# Calculate total counts by entity type\n",
    "total_counts = entities_df[entity_cols].sum().sort_values(ascending=False)\n",
    "print(\"\\nTotal entity counts by type:\")\n",
    "print(total_counts)"
   ]
  },
  {
   "cell_type": "code",
   "execution_count": 47,
   "id": "64c224fc",
   "metadata": {},
   "outputs": [
    {
     "data": {
      "image/png": "[encoded data removed]",
      "text/plain": [
       "<Figure size 1200x600 with 1 Axes>"
      ]
     },
     "metadata": {},
     "output_type": "display_data"
    }
   ],
   "source": [
    "# Visualize distribution of entities across samples\n",
    "plt.figure(figsize=(12, 6))\n",
    "total_counts.plot(kind='bar')\n",
    "plt.title('Distribution of Entity Types Across Legal Samples')\n",
    "plt.xlabel('Entity Type')\n",
    "plt.ylabel('Count')\n",
    "plt.xticks(rotation=45)\n",
    "plt.grid(axis='y', alpha=0.3)\n",
    "plt.tight_layout()\n",
    "plt.show()"
   ]
  },
  {
   "cell_type": "code",
   "execution_count": null,
   "id": "f9d5db49",
   "metadata": {},
   "outputs": [],
   "source": [
    "# Analyze most common entities by type\n",
    "def get_most_common_entities(results, entity_type, top_n=10):\n",
    "    \"\"\"Get the most common entities of a specific type\"\"\"\n",
    "    all_entities = []\n",
    "    for result in results:\n",
    "        all_entities.extend(result['entities'].get(entity_type, []))\n",
    "    \n",
    "    counter = Counter(all_entities)\n",
    "    return counter.most_common(top_n)\n",
    "\n",
    "# Display most common entities for each type\n",
    "entity_types_of_interest = ['ORG', 'PERSON', 'GPE', 'DATE', 'LAW']\n",
    "\n",
    "for entity_type in entity_types_of_interest:\n",
    "    most_common = get_most_common_entities(batch_results, entity_type)\n",
    "    \n",
    "    if most_common:  # Only display if there are entities of this type\n",
    "        print(f\"\\nMost common {entity_type} entities:\")\n",
    "        for entity, count in most_common:\n",
    "            print(f\"  {entity}: {count}\")\n",
    "            \n",
    "        # Plot top entities\n",
    "        plt.figure(figsize=(10, 5))\n",
    "        labels, values = zip(*most_common)\n",
    "        plt.barh(labels, values)\n",
    "        plt.title(f'Most Common {entity_type} Entities')\n",
    "        plt.xlabel('Frequency')\n",
    "        plt.tight_layout()\n",
    "        plt.show()"
   ]
  },
  {
   "cell_type": "code",
   "execution_count": null,
   "id": "7edb2241",
   "metadata": {},
   "outputs": [],
   "source": [
    "# Find samples with the most entities of each type\n",
    "def find_samples_with_most_entities(df_entities, entity_type, top_n=5):\n",
    "    \"\"\"Find samples with the most entities of a specific type\"\"\"\n",
    "    if entity_type not in df_entities.columns:\n",
    "        return []\n",
    "    \n",
    "    # Sort by entity count in descending order\n",
    "    samples = df_entities.sort_values(by=entity_type, ascending=False).head(top_n)\n",
    "    return samples[['sample_id', entity_type]].values.tolist()\n",
    "\n",
    "# Find interesting samples for each entity type\n",
    "print(\"Samples with the most entities by type:\")\n",
    "for entity_type in entity_types_of_interest:\n",
    "    top_samples = find_samples_with_most_entities(entities_df, entity_type)\n",
    "    \n",
    "    if top_samples:  # Only display if there are entities of this type\n",
    "        print(f\"\\nSamples with most {entity_type} entities:\")\n",
    "        for sample_id, count in top_samples:\n",
    "            if count > 0:  # Only show samples that have entities of this type\n",
    "                print(f\"  Sample {sample_id}: {count} entities\")"
   ]
  },
  {
   "cell_type": "code",
   "execution_count": null,
   "id": "587ba16c",
   "metadata": {},
   "outputs": [],
   "source": [
    "# Function to display entity details for a specific sample\n",
    "def display_sample_entities(df, batch_results, sample_id):\n",
    "    \"\"\"Display detailed entity information for a specific sample\"\"\"\n",
    "    # Find the sample in the DataFrame\n",
    "    sample = df[df['sample_id'] == sample_id].iloc[0]\n",
    "    \n",
    "    # Find the corresponding batch result\n",
    "    batch_result = next((r for r in batch_results if r['sample_id'] == sample_id), None)\n",
    "    \n",
    "    if batch_result is None:\n",
    "        print(f\"Sample {sample_id} not found in batch results.\")\n",
    "        return\n",
    "    \n",
    "    # Display sample information\n",
    "    print(f\"Sample ID: {sample_id}\")\n",
    "    print(\"Original text (truncated):\")\n",
    "    print(sample['original_text'][:500] + \"...\\n\")\n",
    "    \n",
    "    # Display entities by type\n",
    "    print(\"Entities by type:\")\n",
    "    for entity_type, entities in batch_result['entities'].items():\n",
    "        if entities:  # Only show non-empty entity types\n",
    "            print(f\"\\n{entity_type}:\")\n",
    "            for entity in set(entities):  # Show unique entities\n",
    "                print(f\"  • {entity}\")\n",
    "    \n",
    "    # Process the text for visualization\n",
    "    short_sample = sample['original_text'][:500]\n",
    "    doc = nlp(short_sample)\n",
    "    \n",
    "    # Visualize entities\n",
    "    print(\"\\nVisualization of entities in text (first 500 characters):\")\n",
    "    displacy.render(doc, style=\"ent\", jupyter=True)"
   ]
  },
  {
   "cell_type": "code",
   "execution_count": null,
   "id": "fef6272c",
   "metadata": {},
   "outputs": [],
   "source": [
    "# Choose a sample with interesting entities to display\n",
    "# Look for a sample with a good mix of entity types\n",
    "interesting_sample_id = entities_df['ORG'].idxmax()  # Sample with most organizations\n",
    "interesting_sample_id = entities_df.iloc[interesting_sample_id]['sample_id']\n",
    "\n",
    "# Display detailed entities for the chosen sample\n",
    "display_sample_entities(df, batch_results, interesting_sample_id)"
   ]
  },
  {
   "cell_type": "code",
   "execution_count": null,
   "id": "c3679fb8",
   "metadata": {},
   "outputs": [],
   "source": [
    "# Export entity data to CSV for further analysis\n",
    "# Remove the large entities dictionary to make the DataFrame more manageable\n",
    "export_df = entities_df.drop(columns=['entities'])\n",
    "\n",
    "# Save to CSV\n",
    "entity_csv_path = os.path.join(\"preprocessed_data\", \"entity_analysis.csv\")\n",
    "export_df.to_csv(entity_csv_path, index=False)\n",
    "\n",
    "print(f\"Saved entity analysis to {entity_csv_path}\")"
   ]
  },
  {
   "cell_type": "code",
   "execution_count": null,
   "id": "686fd05a",
   "metadata": {},
   "outputs": [],
   "source": []
  }
 ],
 "metadata": {
  "kernelspec": {
   "display_name": "base",
   "language": "python",
   "name": "python3"
  },
  "language_info": {
   "codemirror_mode": {
    "name": "ipython",
    "version": 3
   },
   "file_extension": ".py",
   "mimetype": "text/x-python",
   "name": "python",
   "nbconvert_exporter": "python",
   "pygments_lexer": "ipython3",
   "version": "3.9.13"
  }
 },
 "nbformat": 4,
 "nbformat_minor": 5
}
